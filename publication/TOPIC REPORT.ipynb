{
 "cells": [
  {
   "cell_type": "markdown",
   "id": "f4a1c04f",
   "metadata": {},
   "source": [
    "\n",
    "<br> \n",
    "<br>\n",
    "<h1><center> TOPIC REPORT </center>\n",
    "<br> \n",
    "<h2> 1.Introduction </h2>\n",
    "<br>\n",
    "Một câu giới thiệu ở đây\n",
    "<br>\n",
    "<table style=\"width:80%\">\n",
    "<br>\n",
    "<th><center>Name</th>\n",
    "<th>Student ID</th>\n",
    "<th><center>Email</th>\n",
    "</tr>\n",
    "<tr>\n",
    "<td><center>Hoàng Trần Nhật Minh</td>\n",
    "<td>20204883</td>\n",
    "<td>minh.htn204883@sis.hust.edu.vn</td>\n",
    "</tr>\n",
    "<tr>\n",
    "<td><center>Nguyễn Hoàng Phúc</td>\n",
    "<td>20204923</td>\n",
    "<td>phuc.nh204923@sis.hust.edu.vn</td>\n",
    "</tr>\n",
    "<tr>\n",
    "<td><center>Lý Nhật Nam</td>\n",
    "<td>20204886</td>\n",
    "<td>nam.ln204886@sis.hust.edu.vn</td>\n",
    "</tr>\n",
    "<tr>\n",
    "<td><center>Lê Thảo Anh</td>\n",
    "<td>20200054</td>\n",
    "<td>anh.lt200054@sis.hust.edu.vn</td>\n",
    "</tr>\n",
    "<tr>\n",
    "<td><center>Đỗ Xuân Phong</td>\n",
    "<td>20219701</td>\n",
    "<td>phong.dx219701@sis.hust.edu.vn</td>\n",
    "</tr>\n",
    "</table>\n",
    "\n",
    "<h2> 2.Description of Problem </h2>\n",
    "<br>\n",
    "    \n",
    "\n"
   ]
  },
  {
   "cell_type": "code",
   "execution_count": null,
   "id": "a818b759",
   "metadata": {},
   "outputs": [],
   "source": []
  },
  {
   "cell_type": "code",
   "execution_count": null,
   "id": "76fef4a6",
   "metadata": {},
   "outputs": [],
   "source": []
  }
 ],
 "metadata": {
  "kernelspec": {
   "display_name": "Python 3",
   "language": "python",
   "name": "python3"
  },
  "language_info": {
   "codemirror_mode": {
    "name": "ipython",
    "version": 3
   },
   "file_extension": ".py",
   "mimetype": "text/x-python",
   "name": "python",
   "nbconvert_exporter": "python",
   "pygments_lexer": "ipython3",
   "version": "3.8.8"
  }
 },
 "nbformat": 4,
 "nbformat_minor": 5
}
