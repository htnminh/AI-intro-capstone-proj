{
  "nbformat": 4,
  "nbformat_minor": 0,
  "metadata": {
    "colab": {
      "name": "TOPIC_REPORT_2.ipynb",
      "provenance": [],
      "authorship_tag": "ABX9TyM8a9vPZv+6LY8czHK3zVI4"
    },
    "kernelspec": {
      "name": "python3",
      "display_name": "Python 3"
    },
    "language_info": {
      "name": "python"
    }
  },
  "cells": [
    {
      "cell_type": "markdown",
      "metadata": {
        "id": "mXrczTJn7xGO"
      },
      "source": [
        "# Introduction\n",
        "A topic description of Team 17. List of members:\n",
        "\n",
        "| Name        | Student ID  | Email Address                   |\n",
        "| :---        |    :----:   |                            ---: |\n",
        "| Hoàng Trần Nhật Minh|20204883|minh.htn204883@sis.hust.edu.vn|\n",
        "| Nguyễn Hoàng Phúc   |20204923|phuc.nh204923@sis.hust.edu.vn |\n",
        "| Lý Nhật Nam         |20204886|nam.ln204886@sis.hust.edu.vn  |\n",
        "| Lê Thảo Anh         |20200054|anh.lt200054@sis.hust.edu.vn  |\n",
        "| Đỗ Xuân Phong       |20219701|phong.dx219701@sis.hust.edu.vn|"
      ]
    },
    {
      "cell_type": "markdown",
      "metadata": {
        "id": "1_XsY35375vh"
      },
      "source": [
        "# Description of the problem\n",
        "The penniless pilgrim riddle.\n",
        "\n",
        "You are a pilgrim "
      ]
    }
  ]
}