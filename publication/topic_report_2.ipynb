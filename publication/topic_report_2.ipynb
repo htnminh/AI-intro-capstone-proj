{
 "cells": [
  {
   "cell_type": "markdown",
   "id": "06e8729f",
   "metadata": {},
   "source": [
    "# Introduction\n",
    "A topic description of Team 17. List of members:\n",
    "\n",
    "| Name        | Student ID  | Email Address                   |\n",
    "| :---        |    :----:   |                            ---: |\n",
    "| Hoàng Trần Nhật Minh|20204883|minh.htn204883@sis.hust.edu.vn|\n",
    "| Nguyễn Hoàng Phúc   |20204923|phuc.nh204923@sis.hust.edu.vn |\n",
    "| Lý Nhật Nam         |20204886|nam.ln204886@sis.hust.edu.vn  |\n",
    "| Lê Thảo Anh         |20200054|anh.lt200054@sis.hust.edu.vn  |\n",
    "| Đỗ Xuân Phong       |20219701|phong.dx219701@sis.hust.edu.vn|\n",
    "\n",
    "\n",
    "# Description of the problem \n",
    "**THE PENNILESS PILGRIM RIDDLE:**  \n",
    "After months of travel, you’ve arrived at Duonia, home to the famous temple that’s the destination of your pilgrimage. The walk from the welcome center to the temple is only 5 blocks walking away, and you were handed the brochure about the city rules. This city is… unique, in that:  \n",
    "\n",
    "**There’s a strange tax:** The tax begins at $0$, increases by $2$ silvers for every block you walk east, doubles for every block you walk south. A walk west-bound or north-bound will however decreases it by $2$ and by half, respectively.  \n",
    "\n",
    "The city’s rule, as per the temple’s religion, also forbids you treading back any path you’ve walked, but crossing is exemplified.  \n",
    "\n",
    "You just realized you did not bring any silver at all. Even worse, arriving at the welcome center already sets you back 10 silvers. As a pilgrim, you do not want to enter citizen’s blocks, nor break any rules.  \n",
    "\n",
    "How would you reach the temple without paying any tax?\n",
    "\n",
    "![]()\n",
    "\n",
    "**States**: Each state is composed by 4 components.  \n",
    "1. `board_size`: the size of the board, remains constant through out each game. It is of the form `(m, n)`, where `m` and `n` are the numbers of squares in a column and a row, respectively.\n",
    "\n",
    "2. `walked_road`: the sequence of roads that the pilgrim has walked through. It is a list of tuple, in which each tuple is of the form `(x, y, <DIRECTION>)`, `(x, y)` is the coordinate of the pilgrim (like `current_pos` below). and the `DIRECTION` only has 4 values `R`, `L`, `U` and `D`, which are Right, Left, Up and Down, respectively.\n",
    "\n",
    "3. `current_pos`: the current position of the pilgrim. It is of the form `(x, y)`, which is their coordinate. `(0,0)` and `(m,n)` are the positions of the intersections in the upper-left corner and the destination, respectively.\n",
    "\n",
    "4. `current_tax`: the current number of silvers that the pilgrim is owing the city. It is a real number.\n",
    "\n",
    "**INITIAL STATE:** The board size is randomized, the initial walked road is randomized, the initial position and the current tax will follow the rules after moving on that road.    \n",
    "**ACTION:** `R`, `L`, `U` and `D`  \n",
    "**GOAL STATE:** The goal is to reach the goal coordinate, which means the current position of the pilgrim is the most lower-right corner. Since the pilgrim brings no silver, the tax should be a non-positive real number.\n",
    "If multiple solutions are found, a solution is considered better if the tax is lower.  \n",
    "**PATH COST:** $(L, - 2), (R, + 2), (U, \\div 2), (D, \\times 2) \\rightarrow Cost$\n",
    "\n",
    "\n",
    "**Output**\n",
    "- Time complexity (number of nodes expanded in order to solve the puzzle)\n",
    "- Space complexity (number of nodes kept in memory)\n",
    "- The sequence of moves from the starting position to the temple and the remaining silver “owed”.\n"
   ]
  }
 ],
 "metadata": {
  "kernelspec": {
   "display_name": "Python 3",
   "language": "python",
   "name": "python3"
  },
  "language_info": {
   "codemirror_mode": {
    "name": "ipython",
    "version": 3
   },
   "file_extension": ".py",
   "mimetype": "text/x-python",
   "name": "python",
   "nbconvert_exporter": "python",
   "pygments_lexer": "ipython3",
   "version": "3.8.8"
  }
 },
 "nbformat": 4,
 "nbformat_minor": 5
}
