{
 "cells": [
  {
   "cell_type": "markdown",
   "id": "fixed-relevance",
   "metadata": {},
   "source": [
    "# TOPIC REPORT\n",
    "## 1. Introduction\n",
    "(An Introduction)\n",
    "\n",
    "| Name                      | Student ID   |  Email address   |\n",
    "|---------------------------|--------------|------------------|\n",
    "| Hoàng Trần Nhật Minh | 20204883 | minh.htn204883@sis.hust.edu.vn\n",
    "| Nguyễn Hoàng Phúc | 20204923 | phuc.nh204923@sis.hust.edu.vn\n",
    "| Lý Nhật Nam | 20204886 | nam.ln204886@sis.hust.edu.vn\n",
    "| Lê Thảo Anh | 20200054 | anh.lt200054@sis.hust.edu.vn\n",
    "| Đỗ Xuân Phong | 20219701 | phong.dx219701@sis.hust.edu.vn\n"
   ]
  }
 ],
 "metadata": {
  "kernelspec": {
   "display_name": "Python 3",
   "language": "python",
   "name": "python3"
  },
  "language_info": {
   "codemirror_mode": {
    "name": "ipython",
    "version": 3
   },
   "file_extension": ".py",
   "mimetype": "text/x-python",
   "name": "python",
   "nbconvert_exporter": "python",
   "pygments_lexer": "ipython3",
   "version": "3.9.6"
  }
 },
 "nbformat": 4,
 "nbformat_minor": 5
}
